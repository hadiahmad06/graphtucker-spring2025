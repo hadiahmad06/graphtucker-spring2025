{
 "cells": [
  {
   "cell_type": "code",
   "execution_count": 4,
   "id": "differential-trade",
   "metadata": {},
   "outputs": [],
   "source": [
    "import pandas as pd\n",
    "from sklearn.cluster import KMeans\n",
    "import numpy as np\n",
    "from sklearn.metrics.cluster import adjusted_rand_score"
   ]
  },
  {
   "cell_type": "code",
   "execution_count": 73,
   "id": "seeing-merchant",
   "metadata": {},
   "outputs": [],
   "source": [
    "# dataset to use, either 'hb' or 'brca1'\n",
    "dataset = 'HB'"
   ]
  },
  {
   "cell_type": "code",
   "execution_count": 74,
   "id": "completed-butterfly",
   "metadata": {},
   "outputs": [],
   "source": [
    "if dataset == 'HB':\n",
    "    anno_df = pd.read_csv('barcode_annotations/hb_barcodes_annotated.csv')\n",
    "    padded_df = pd.read_csv('barcode_annotations/hb_barcodes_labeled.csv')\n",
    "    k = 7 # number of regions\n",
    "    df = pd.read_csv('res/HB/NSFH_L=8_T=7_M=3639_HB_spatial_factors.csv')\n",
    "\n",
    "    savename = 'res/HB/NSFH_HB_spatial_factors_clustered.csv'\n",
    "elif dataset == 'BRCA1':\n",
    "    anno_df = pd.read_csv('barcode_annotations/brca1_barcodes_annotated.csv')\n",
    "    padded_df = pd.read_csv('barcode_annotations/brca1_barcodes_labeled.csv')\n",
    "    k = 20 # number of regions\n",
    "    df = pd.read_csv('res/BRCA1/NSFH_L=21_T=20_M=3789_BRCA1_spatial_factors.csv')\n",
    "    savename = 'res/BRCA1/NSFH_BRCA1_spatial_factors_clustered.csv'\n",
    "\n",
    "anno_labels = list(anno_df['reg_labels'])\n",
    "\n",
    "# remove spots that don't have labels (background spots)\n",
    "val_idx = [i for i in range(len(anno_labels)) if anno_labels[i] != -1]\n",
    "anno_arr = np.array(anno_labels)\n",
    "anno_arr = anno_arr[val_idx]\n",
    "\n",
    "# remove background spots\n",
    "X = df.values[val_idx,3:]\n",
    "\n",
    "# normalize spatial components\n",
    "X_norm = X / np.linalg.norm(np.double(X), axis=0)"
   ]
  },
  {
   "cell_type": "code",
   "execution_count": 75,
   "id": "coordinated-saver",
   "metadata": {},
   "outputs": [],
   "source": [
    "# run Kmeans with k=number of regions\n",
    "kmeans = KMeans(n_clusters=k, random_state=0).fit(X_norm)"
   ]
  },
  {
   "cell_type": "code",
   "execution_count": 76,
   "id": "normal-prospect",
   "metadata": {},
   "outputs": [],
   "source": [
    "cluster_labels = kmeans.labels_\n",
    "\n",
    "# Insert clustering labels into corresponding rows for each spot to be used for visualization\n",
    "full_clusters = np.zeros((len(anno_labels),1))\n",
    "for i in range(len(val_idx)):\n",
    "    full_clusters[val_idx[i]] = int(cluster_labels[i])"
   ]
  },
  {
   "cell_type": "code",
   "execution_count": 77,
   "id": "fifteen-ladder",
   "metadata": {},
   "outputs": [],
   "source": [
    "val_barcode_list = anno_df['barcode']\n",
    "padded_df = padded_df.fillna(' ')\n",
    "barcode_list = padded_df['barcode']\n",
    "padded_clusters = np.zeros((len(barcode_list),1))\n",
    "\n",
    "for i in range(len(barcode_list)):\n",
    "    barcode = barcode_list[i]\n",
    "    if barcode == ' ':\n",
    "        continue\n",
    "    for j in range(len(val_barcode_list)):\n",
    "        if barcode == val_barcode_list[j]:\n",
    "            padded_clusters[i] = full_clusters[j]\n",
    "            break"
   ]
  },
  {
   "cell_type": "code",
   "execution_count": 78,
   "id": "collaborative-creation",
   "metadata": {},
   "outputs": [
    {
     "name": "stdout",
     "output_type": "stream",
     "text": [
      "0.24091976178303684\n"
     ]
    }
   ],
   "source": [
    "# Calculate ARI\n",
    "print(adjusted_rand_score(anno_arr, cluster_labels))"
   ]
  },
  {
   "cell_type": "code",
   "execution_count": 70,
   "id": "comprehensive-salad",
   "metadata": {},
   "outputs": [],
   "source": [
    "padded_df['clusters'] = padded_clusters"
   ]
  },
  {
   "cell_type": "code",
   "execution_count": 72,
   "id": "faced-variance",
   "metadata": {},
   "outputs": [],
   "source": [
    "padded_df.to_csv(savename, index=False)"
   ]
  }
 ],
 "metadata": {
  "kernelspec": {
   "display_name": "Python 3",
   "language": "python",
   "name": "python3"
  },
  "language_info": {
   "codemirror_mode": {
    "name": "ipython",
    "version": 3
   },
   "file_extension": ".py",
   "mimetype": "text/x-python",
   "name": "python",
   "nbconvert_exporter": "python",
   "pygments_lexer": "ipython3",
   "version": "3.7.3"
  }
 },
 "nbformat": 4,
 "nbformat_minor": 5
}
